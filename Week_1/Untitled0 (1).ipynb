{
  "nbformat": 4,
  "nbformat_minor": 0,
  "metadata": {
    "colab": {
      "provenance": []
    },
    "kernelspec": {
      "name": "python3",
      "display_name": "Python 3"
    },
    "language_info": {
      "name": "python"
    }
  },
  "cells": [
    {
      "cell_type": "code",
      "execution_count": null,
      "metadata": {
        "id": "BmFSmKhg32dz"
      },
      "outputs": [],
      "source": [
        "# Cek Python enviorment\n",
        "import sys\n",
        "print(\"Python version:\", sys.version)\n",
        "\n",
        "# Tes library Numpy\n",
        "import numpy as np\n",
        "print(\"Array:\", np.array([1, 2, 3]))\n",
        "\n",
        "#Tes library Pandas\n",
        "import panda as pd\n",
        "print(\"DataFrame:\")\n",
        "print(pd.DataFrame({'A':[1,2], 'B': [3,4]}))"
      ]
    },
    {
      "cell_type": "markdown",
      "source": [
        "## Setup Awal – Mengecek Lingkungan Pemrograman\n",
        "\n",
        "Langkah pertama dalam perjalanan AI: memastikan semua tools dasar sudah tersedia.  \n",
        "Kita mulai dengan:\n",
        "- Mengecek versi Python\n",
        "- Mengimpor pustaka dasar: Numpy & Pandas\n",
        "- Melakukan uji coba operasi dasar\n",
        "\n",
        "🎯 Tujuan:\n",
        "- Validasi setup lingkungan kerja\n",
        "- Memahami cara berpikir numerik & data\n"
      ],
      "metadata": {
        "id": "ThqcqXZVEUMR"
      }
    },
    {
      "cell_type": "code",
      "source": [
        "✅ Output menunjukkan bahwa semua pustaka telah berhasil diimpor.\n",
        "Versi Python sesuai, array dan DataFrame tampil normal.\n",
        "Lingkungan siap digunakan untuk eksperimen selanjutnya."
      ],
      "metadata": {
        "id": "yitJqHl2Erwp"
      },
      "execution_count": null,
      "outputs": []
    }
  ]
}